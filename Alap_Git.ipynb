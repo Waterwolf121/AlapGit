{
 "metadata": {
  "name": "",
  "signature": "sha256:f6654ab162abadfe8bcb06e6ccb538bacd333a66b453ed9528da1f230666cba5"
 },
 "nbformat": 3,
 "nbformat_minor": 0,
 "worksheets": [
  {
   "cells": [
    {
     "cell_type": "markdown",
     "metadata": {},
     "source": [
      "# Git alap konfig"
     ]
    },
    {
     "cell_type": "code",
     "collapsed": false,
     "input": [
      "!git config --global user.name \"Saj\u00e1t n\u00e9v vagy felhaszn\u00e1l\u00f3\"\n",
      "!git config --global user.email \"emailc\u00edm@emailc\u00edm.c\u00edm\""
     ],
     "language": "python",
     "metadata": {},
     "outputs": []
    },
    {
     "cell_type": "markdown",
     "metadata": {},
     "source": [
      "### <span style=\"color:red\">Megmondjuk a Git-nek, hogy kik is vagyunk</span>\n",
      "<br>\n",
      "   **git config --global user.name** *\"Saj\u00e1t n\u00e9v vagy felhaszn\u00e1l\u00f3\"*<br>\n",
      "   **git config --global user.email** *\"emailc\u00edm@emailc\u00edm.c\u00edm\"*"
     ]
    },
    {
     "cell_type": "code",
     "collapsed": false,
     "input": [
      "!git init"
     ],
     "language": "python",
     "metadata": {},
     "outputs": []
    },
    {
     "cell_type": "markdown",
     "metadata": {},
     "source": [
      "### <span style=\"color:red\">\u00daj git repository l\u00e9trehoz\u00e1sa</span>\n",
      "<br>\n",
      "   **git init**"
     ]
    },
    {
     "cell_type": "code",
     "collapsed": false,
     "input": [
      "!git status"
     ],
     "language": "python",
     "metadata": {},
     "outputs": []
    },
    {
     "cell_type": "markdown",
     "metadata": {},
     "source": [
      "### <span style=\"color:red\">V\u00e1ltoz\u00e1sok list\u00e1z\u00e1sa</span>\n",
      "<br>\n",
      "   **git status**"
     ]
    },
    {
     "cell_type": "code",
     "collapsed": false,
     "input": [
      "!git clone <url>"
     ],
     "language": "python",
     "metadata": {},
     "outputs": []
    },
    {
     "cell_type": "markdown",
     "metadata": {},
     "source": [
      "### <span style=\"color:red\">T\u00e1voli repository lem\u00e1sol\u00e1sa a g\u00e9p\u00fcnkre</span>\n",
      "<br>\n",
      "   **git clone** *weblap c\u00edm*"
     ]
    },
    {
     "cell_type": "code",
     "collapsed": false,
     "input": [
      "!git add <fajlnev>\n",
      "!git mv <fajlnev> <fajlnev1>\n",
      "!git rm <fajlnev>"
     ],
     "language": "python",
     "metadata": {},
     "outputs": []
    },
    {
     "cell_type": "markdown",
     "metadata": {},
     "source": [
      "### <span style=\"color:red\">File hozz\u00e1ad\u00e1sa, \u00e1thelyez\u00e9se, t\u00f6rl\u00e9se</span>\n",
      "<br>\n",
      "   **git add** *f\u00e1jln\u00e9v* <br>\n",
      "   **git mv** *r\u00e9gi_f\u00e1jln\u00e9v > \u00faj_f\u00e1jln\u00e9v* <br>\n",
      "   **git rm** *f\u00e1jln\u00e9v* <br>"
     ]
    },
    {
     "cell_type": "code",
     "collapsed": false,
     "input": [
      "!git commit"
     ],
     "language": "python",
     "metadata": {},
     "outputs": []
    },
    {
     "cell_type": "markdown",
     "metadata": {},
     "source": [
      "### <span style=\"color:red\">V\u00e1ltoz\u00e1sok ment\u00e9se</span>\n",
      "<br>\n",
      "  **git commit** <br>\n",
      "   **-m** *Commit \u00fczenet hagy\u00e1sa* <br>\n",
      "   **-a** *staging area kihagy\u00e1sa* <br>"
     ]
    },
    {
     "cell_type": "code",
     "collapsed": false,
     "input": [
      "!git push"
     ],
     "language": "python",
     "metadata": {},
     "outputs": []
    },
    {
     "cell_type": "markdown",
     "metadata": {},
     "source": [
      "### <span style=\"color:red\">Lok\u00e1lis v\u00e1ltoz\u00e1sok felt\u00f6lt\u00e9se t\u00e1voli repository-ba</span>\n",
      "<br>\n",
      "   **git push** *f\u00e1jln\u00e9v*"
     ]
    }
   ],
   "metadata": {}
  }
 ]
}